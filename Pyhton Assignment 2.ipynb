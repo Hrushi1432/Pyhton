{
 "cells": [
  {
   "cell_type": "code",
   "execution_count": 4,
   "id": "5f2e3dcd-9f9d-4fab-836c-a09191acdb36",
   "metadata": {},
   "outputs": [
    {
     "name": "stdin",
     "output_type": "stream",
     "text": [
      "Enter you KM: 45\n"
     ]
    },
    {
     "name": "stdout",
     "output_type": "stream",
     "text": [
      "27.967681789931635 Miles\n"
     ]
    }
   ],
   "source": [
    "KM= float(input(\"Enter you KM:\"))\n",
    "Miles=KM/1.609\n",
    "print(Miles,\"Miles\")"
   ]
  },
  {
   "cell_type": "code",
   "execution_count": 9,
   "id": "38d89eac-084a-447d-bc3d-09f6df96bbae",
   "metadata": {},
   "outputs": [
    {
     "name": "stdin",
     "output_type": "stream",
     "text": [
      "Enter You Celcius: 58\n"
     ]
    },
    {
     "name": "stdout",
     "output_type": "stream",
     "text": [
      "1960.3999999999999 Fahrenheit\n"
     ]
    }
   ],
   "source": [
    "Cel=float(input(\"Enter You Celcius:\"))\n",
    "far=33.8*Cel\n",
    "print(far,\"Fahrenheit\")"
   ]
  },
  {
   "cell_type": "code",
   "execution_count": 10,
   "id": "de0d446b-6546-49ef-a58a-7a98f21df86e",
   "metadata": {},
   "outputs": [
    {
     "name": "stdin",
     "output_type": "stream",
     "text": [
      "Enter Year: 2000\n"
     ]
    },
    {
     "name": "stdout",
     "output_type": "stream",
     "text": [
      "                                  2000\n",
      "\n",
      "      January                   February                   March\n",
      "Mo Tu We Th Fr Sa Su      Mo Tu We Th Fr Sa Su      Mo Tu We Th Fr Sa Su\n",
      "                1  2          1  2  3  4  5  6             1  2  3  4  5\n",
      " 3  4  5  6  7  8  9       7  8  9 10 11 12 13       6  7  8  9 10 11 12\n",
      "10 11 12 13 14 15 16      14 15 16 17 18 19 20      13 14 15 16 17 18 19\n",
      "17 18 19 20 21 22 23      21 22 23 24 25 26 27      20 21 22 23 24 25 26\n",
      "24 25 26 27 28 29 30      28 29                     27 28 29 30 31\n",
      "31\n",
      "\n",
      "       April                      May                       June\n",
      "Mo Tu We Th Fr Sa Su      Mo Tu We Th Fr Sa Su      Mo Tu We Th Fr Sa Su\n",
      "                1  2       1  2  3  4  5  6  7                1  2  3  4\n",
      " 3  4  5  6  7  8  9       8  9 10 11 12 13 14       5  6  7  8  9 10 11\n",
      "10 11 12 13 14 15 16      15 16 17 18 19 20 21      12 13 14 15 16 17 18\n",
      "17 18 19 20 21 22 23      22 23 24 25 26 27 28      19 20 21 22 23 24 25\n",
      "24 25 26 27 28 29 30      29 30 31                  26 27 28 29 30\n",
      "\n",
      "        July                     August                  September\n",
      "Mo Tu We Th Fr Sa Su      Mo Tu We Th Fr Sa Su      Mo Tu We Th Fr Sa Su\n",
      "                1  2          1  2  3  4  5  6                   1  2  3\n",
      " 3  4  5  6  7  8  9       7  8  9 10 11 12 13       4  5  6  7  8  9 10\n",
      "10 11 12 13 14 15 16      14 15 16 17 18 19 20      11 12 13 14 15 16 17\n",
      "17 18 19 20 21 22 23      21 22 23 24 25 26 27      18 19 20 21 22 23 24\n",
      "24 25 26 27 28 29 30      28 29 30 31               25 26 27 28 29 30\n",
      "31\n",
      "\n",
      "      October                   November                  December\n",
      "Mo Tu We Th Fr Sa Su      Mo Tu We Th Fr Sa Su      Mo Tu We Th Fr Sa Su\n",
      "                   1             1  2  3  4  5                   1  2  3\n",
      " 2  3  4  5  6  7  8       6  7  8  9 10 11 12       4  5  6  7  8  9 10\n",
      " 9 10 11 12 13 14 15      13 14 15 16 17 18 19      11 12 13 14 15 16 17\n",
      "16 17 18 19 20 21 22      20 21 22 23 24 25 26      18 19 20 21 22 23 24\n",
      "23 24 25 26 27 28 29      27 28 29 30               25 26 27 28 29 30 31\n",
      "30 31\n",
      "\n"
     ]
    }
   ],
   "source": [
    "import calendar\n",
    "yy = int(input(\"Enter Year:\"))\n",
    "print(calendar.calendar(yy))"
   ]
  },
  {
   "cell_type": "code",
   "execution_count": 14,
   "id": "4dd6b60e-1de8-4fbf-8ea7-657b725b04c2",
   "metadata": {},
   "outputs": [
    {
     "name": "stdin",
     "output_type": "stream",
     "text": [
      "a=  1\n",
      "b=  2\n",
      "c=  3\n"
     ]
    },
    {
     "name": "stdout",
     "output_type": "stream",
     "text": [
      "FORM:  -1.2679491924311228\n"
     ]
    }
   ],
   "source": [
    "a=int(input(\"a= \"))\n",
    "b=int(input(\"b= \"))\n",
    "c=int(input(\"c= \"))\n",
    "X1=((-b)-((b*b)-(4*a*c)**0.5))/2*a\n",
    "print(\"FORM: \",X1)"
   ]
  },
  {
   "cell_type": "code",
   "execution_count": 16,
   "id": "23d7be31-f146-4d9e-8255-7680fc8a7b0c",
   "metadata": {},
   "outputs": [
    {
     "name": "stdin",
     "output_type": "stream",
     "text": [
      "a=  1\n",
      "b=  2\n",
      "c=  3\n"
     ]
    },
    {
     "name": "stdout",
     "output_type": "stream",
     "text": [
      "FORM:  -0.7320508075688772\n"
     ]
    }
   ],
   "source": [
    "a=int(input(\"a= \"))\n",
    "b=int(input(\"b= \"))\n",
    "c=int(input(\"c= \"))\n",
    "X1=((-b)+((b*b)-(4*a*c)**0.5))/2*a\n",
    "print(\"FORM: \",X1)"
   ]
  },
  {
   "cell_type": "code",
   "execution_count": null,
   "id": "628b28ec-d0e7-441c-bf05-57b04624a338",
   "metadata": {},
   "outputs": [],
   "source": []
  }
 ],
 "metadata": {
  "kernelspec": {
   "display_name": "Python 3 (ipykernel)",
   "language": "python",
   "name": "python3"
  },
  "language_info": {
   "codemirror_mode": {
    "name": "ipython",
    "version": 3
   },
   "file_extension": ".py",
   "mimetype": "text/x-python",
   "name": "python",
   "nbconvert_exporter": "python",
   "pygments_lexer": "ipython3",
   "version": "3.12.5"
  }
 },
 "nbformat": 4,
 "nbformat_minor": 5
}
